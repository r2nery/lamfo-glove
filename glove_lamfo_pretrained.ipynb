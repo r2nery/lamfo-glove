{
 "cells": [
  {
   "cell_type": "code",
   "execution_count": null,
   "metadata": {},
   "outputs": [],
   "source": []
  }
 ],
 "metadata": {
  "kernelspec": {
   "display_name": "Python 3.9.13 ('.venv': venv)",
   "language": "python",
   "name": "python3"
  },
  "language_info": {
   "name": "python",
   "version": "3.9.13"
  },
  "orig_nbformat": 4,
  "vscode": {
   "interpreter": {
    "hash": "0b5b0ab36593ab109b7e532e9629226d044d86dbfbbcf831bcc0159ca1483f1d"
   }
  }
 },
 "nbformat": 4,
 "nbformat_minor": 2
}
